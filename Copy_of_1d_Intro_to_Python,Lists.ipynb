{
  "cells": [
    {
      "cell_type": "markdown",
      "metadata": {
        "id": "view-in-github",
        "colab_type": "text"
      },
      "source": [
        "<a href=\"https://colab.research.google.com/github/Bee-Wheat/Data-Science/blob/main/Copy_of_1d_Intro_to_Python%2CLists.ipynb\" target=\"_parent\"><img src=\"https://colab.research.google.com/assets/colab-badge.svg\" alt=\"Open In Colab\"/></a>"
      ]
    },
    {
      "cell_type": "code",
      "source": [
        "import numpy as np\n"
      ],
      "metadata": {
        "id": "_0AUHwpDUxR-"
      },
      "execution_count": null,
      "outputs": []
    },
    {
      "cell_type": "markdown",
      "metadata": {
        "id": "h_X3UmcwlQXp"
      },
      "source": [
        "# Python Exercises - Intro to Python & Lists"
      ]
    },
    {
      "cell_type": "markdown",
      "metadata": {
        "id": "VPXV1urijf6W"
      },
      "source": [
        "1. Use a variable to represent a famous person’s name and then print that person’s name in lowercase, uppercase and title case."
      ]
    },
    {
      "cell_type": "code",
      "execution_count": null,
      "metadata": {
        "id": "HVxaeoiHkob8"
      },
      "outputs": [],
      "source": [
        "name = \"Ronald McDonald\""
      ]
    },
    {
      "cell_type": "code",
      "source": [
        "name.lower()"
      ],
      "metadata": {
        "colab": {
          "base_uri": "https://localhost:8080/",
          "height": 35
        },
        "id": "xX2BSU6wVsBY",
        "outputId": "43114bfb-ab14-43a6-89ed-73c75eead2ce"
      },
      "execution_count": null,
      "outputs": [
        {
          "output_type": "execute_result",
          "data": {
            "text/plain": [
              "'ronald mcdonald'"
            ],
            "application/vnd.google.colaboratory.intrinsic+json": {
              "type": "string"
            }
          },
          "metadata": {},
          "execution_count": 8
        }
      ]
    },
    {
      "cell_type": "code",
      "source": [
        "name.upper()\n"
      ],
      "metadata": {
        "colab": {
          "base_uri": "https://localhost:8080/",
          "height": 35
        },
        "id": "iMQ8g-88VuRb",
        "outputId": "179539d0-3415-474e-c7d1-e80dd438bfe0"
      },
      "execution_count": null,
      "outputs": [
        {
          "output_type": "execute_result",
          "data": {
            "text/plain": [
              "'RONALD MCDONALD'"
            ],
            "application/vnd.google.colaboratory.intrinsic+json": {
              "type": "string"
            }
          },
          "metadata": {},
          "execution_count": 9
        }
      ]
    },
    {
      "cell_type": "code",
      "source": [
        "name.title()"
      ],
      "metadata": {
        "colab": {
          "base_uri": "https://localhost:8080/",
          "height": 35
        },
        "id": "kGPlowL9VuT9",
        "outputId": "fd8d7734-2a36-430c-dfae-e1d5d9dba4c8"
      },
      "execution_count": null,
      "outputs": [
        {
          "output_type": "execute_result",
          "data": {
            "text/plain": [
              "'Ronald Mcdonald'"
            ],
            "application/vnd.google.colaboratory.intrinsic+json": {
              "type": "string"
            }
          },
          "metadata": {},
          "execution_count": 10
        }
      ]
    },
    {
      "cell_type": "markdown",
      "metadata": {
        "id": "-_qwGFyojiwO"
      },
      "source": [
        "2. Print a message about the person you defined above using an f-string."
      ]
    },
    {
      "cell_type": "code",
      "execution_count": null,
      "metadata": {
        "id": "k5hnJP6xko5s",
        "colab": {
          "base_uri": "https://localhost:8080/",
          "height": 35
        },
        "outputId": "1afbea56-0629-47fd-8b61-675a30799bf4"
      },
      "outputs": [
        {
          "output_type": "execute_result",
          "data": {
            "text/plain": [
              "'Ronald McDonald had a farm.'"
            ],
            "application/vnd.google.colaboratory.intrinsic+json": {
              "type": "string"
            }
          },
          "metadata": {},
          "execution_count": 11
        }
      ],
      "source": [
        "f\"{name} had a farm.\""
      ]
    },
    {
      "cell_type": "markdown",
      "metadata": {
        "id": "eiMZFs72jlBG"
      },
      "source": [
        "3. Store the names of at least 5 of your favorite movies in a list called `movies`."
      ]
    },
    {
      "cell_type": "code",
      "execution_count": null,
      "metadata": {
        "id": "o36yLyIBkqBY",
        "colab": {
          "base_uri": "https://localhost:8080/"
        },
        "outputId": "02bbe561-8f0d-4ba6-fe7f-54eee21a5524"
      },
      "outputs": [
        {
          "output_type": "execute_result",
          "data": {
            "text/plain": [
              "['Fight Club', 'The Menu', 'Time Bandits', 'Hunt For Red October', 'True Lies']"
            ]
          },
          "metadata": {},
          "execution_count": 99
        }
      ],
      "source": [
        "movies_list = list(movies)\n",
        "movies_list"
      ]
    },
    {
      "cell_type": "code",
      "execution_count": null,
      "metadata": {
        "id": "g5tfPanGkpYk",
        "colab": {
          "base_uri": "https://localhost:8080/"
        },
        "outputId": "c13af790-7aa3-49b7-bc12-7882e3932522"
      },
      "outputs": [
        {
          "output_type": "execute_result",
          "data": {
            "text/plain": [
              "['Fight Club', 'The Menu', 'Time Bandits', 'Hunt For Red October', 'True Lies']"
            ]
          },
          "metadata": {},
          "execution_count": 90
        }
      ],
      "source": [
        "movies = (\n",
        "    \"Fight Club\",\n",
        "    \"The Menu\",\n",
        "    \"Time Bandits\",\n",
        "    \"Hunt For Red October\",\n",
        "    \"True Lies\"\n",
        ")\n",
        "movies_list"
      ]
    },
    {
      "cell_type": "markdown",
      "metadata": {
        "id": "XeZjXPpejmve"
      },
      "source": [
        "4. Remove one of the movies from your `movies` list."
      ]
    },
    {
      "cell_type": "code",
      "source": [
        "movies_list.remove(\"Time Bandits\")\n",
        "movies_list"
      ],
      "metadata": {
        "colab": {
          "base_uri": "https://localhost:8080/"
        },
        "id": "Lc7D0qYLWs5b",
        "outputId": "410bf571-6eff-4c7d-91ed-83547e18be2a"
      },
      "execution_count": null,
      "outputs": [
        {
          "output_type": "execute_result",
          "data": {
            "text/plain": [
              "['Fight Club', 'The Menu', 'Hunt For Red October', 'True Lies']"
            ]
          },
          "metadata": {},
          "execution_count": 91
        }
      ]
    },
    {
      "cell_type": "markdown",
      "metadata": {
        "id": "242VkR1Cjpba"
      },
      "source": [
        "5. Sort your `movies` list in reverse alphabetical order."
      ]
    },
    {
      "cell_type": "code",
      "execution_count": null,
      "metadata": {
        "id": "l-AhH36DkqkC",
        "colab": {
          "base_uri": "https://localhost:8080/"
        },
        "outputId": "1401e73d-403e-48ae-ec2f-a712f02009c8"
      },
      "outputs": [
        {
          "output_type": "execute_result",
          "data": {
            "text/plain": [
              "['True Lies', 'The Menu', 'Hunt For Red October', 'Fight Club']"
            ]
          },
          "metadata": {},
          "execution_count": 61
        }
      ],
      "source": [
        "movies_list.sort(reverse=True)\n",
        "movies_list"
      ]
    },
    {
      "cell_type": "markdown",
      "metadata": {
        "id": "Co56cvlwj6ko"
      },
      "source": [
        "6. Use a slice to access the first 3 of your favorite movies."
      ]
    },
    {
      "cell_type": "code",
      "execution_count": null,
      "metadata": {
        "id": "IvzHHLQxkrBJ",
        "colab": {
          "base_uri": "https://localhost:8080/"
        },
        "outputId": "47124781-84b0-412e-b4ab-678d8bd9c145"
      },
      "outputs": [
        {
          "output_type": "execute_result",
          "data": {
            "text/plain": [
              "['True Lies', 'The Menu', 'Hunt For Red October']"
            ]
          },
          "metadata": {},
          "execution_count": 62
        }
      ],
      "source": [
        "movies_list[:3]"
      ]
    },
    {
      "cell_type": "markdown",
      "metadata": {
        "id": "H18ygca-k9s6"
      },
      "source": [
        "7. Add your least favorite movie to your `movies` list."
      ]
    },
    {
      "cell_type": "code",
      "execution_count": null,
      "metadata": {
        "id": "kHymBWfRlDlX",
        "colab": {
          "base_uri": "https://localhost:8080/"
        },
        "outputId": "3f805a78-a530-4c04-fa34-cda00970fee9"
      },
      "outputs": [
        {
          "output_type": "execute_result",
          "data": {
            "text/plain": [
              "['Fight Club',\n",
              " 'The Menu',\n",
              " 'Time Bandits',\n",
              " 'Hunt For Red October',\n",
              " 'True Lies',\n",
              " 'The Pest']"
            ]
          },
          "metadata": {},
          "execution_count": 100
        }
      ],
      "source": [
        "movies_list.append(\"The Pest\")\n",
        "movies_list"
      ]
    },
    {
      "cell_type": "code",
      "source": [
        "movies_list.pop(-1)"
      ],
      "metadata": {
        "colab": {
          "base_uri": "https://localhost:8080/",
          "height": 35
        },
        "id": "_ptwNj0_YBV_",
        "outputId": "05038b00-4ec5-469e-ef33-f04f6707d21d"
      },
      "execution_count": null,
      "outputs": [
        {
          "output_type": "execute_result",
          "data": {
            "text/plain": [
              "'The Pest'"
            ],
            "application/vnd.google.colaboratory.intrinsic+json": {
              "type": "string"
            }
          },
          "metadata": {},
          "execution_count": 101
        }
      ]
    },
    {
      "cell_type": "code",
      "source": [
        "movies_list = movies_list[:-1]\n",
        "del movies_list"
      ],
      "metadata": {
        "id": "56HPbF6NYiXJ"
      },
      "execution_count": null,
      "outputs": []
    },
    {
      "source": [
        "movies_list = []"
      ],
      "cell_type": "code",
      "metadata": {
        "id": "e3lddYIUChz5"
      },
      "execution_count": null,
      "outputs": []
    },
    {
      "cell_type": "code",
      "source": [
        "del(movies_list[2])"
      ],
      "metadata": {
        "id": "ezS7qQoFZO21",
        "colab": {
          "base_uri": "https://localhost:8080/",
          "height": 175
        },
        "outputId": "3def00dc-2169-4813-aafa-e239068ec52e"
      },
      "execution_count": null,
      "outputs": [
        {
          "output_type": "error",
          "ename": "IndexError",
          "evalue": "list assignment index out of range",
          "traceback": [
            "\u001b[0;31m---------------------------------------------------------------------------\u001b[0m",
            "\u001b[0;31mIndexError\u001b[0m                                Traceback (most recent call last)",
            "\u001b[0;32m<ipython-input-112-e030d61a5f9e>\u001b[0m in \u001b[0;36m<cell line: 1>\u001b[0;34m()\u001b[0m\n\u001b[0;32m----> 1\u001b[0;31m \u001b[0;32mdel\u001b[0m\u001b[0;34m(\u001b[0m\u001b[0mmovies_list\u001b[0m\u001b[0;34m[\u001b[0m\u001b[0;36m2\u001b[0m\u001b[0;34m]\u001b[0m\u001b[0;34m)\u001b[0m\u001b[0;34m\u001b[0m\u001b[0;34m\u001b[0m\u001b[0m\n\u001b[0m",
            "\u001b[0;31mIndexError\u001b[0m: list assignment index out of range"
          ]
        }
      ]
    },
    {
      "cell_type": "code",
      "source": [
        "movies_list\n"
      ],
      "metadata": {
        "id": "A2rX6IkjZmla",
        "outputId": "17aa3fd0-fe6a-4cc2-d68c-024c12f65f77",
        "colab": {
          "base_uri": "https://localhost:8080/"
        }
      },
      "execution_count": null,
      "outputs": [
        {
          "output_type": "execute_result",
          "data": {
            "text/plain": [
              "['Fight Club', 'The Menu', 'Time Bandits', 'Hunt For Red October', 'True Lies']"
            ]
          },
          "metadata": {},
          "execution_count": 102
        }
      ]
    },
    {
      "cell_type": "markdown",
      "metadata": {
        "id": "X3AHu-aLlYS0"
      },
      "source": [
        "8. Convert the float `16.4` to an integer."
      ]
    },
    {
      "cell_type": "code",
      "execution_count": null,
      "metadata": {
        "id": "wkOKUrS4lcYz",
        "colab": {
          "base_uri": "https://localhost:8080/"
        },
        "outputId": "28b5ad8f-f40d-40bf-9af2-99864647476e"
      },
      "outputs": [
        {
          "output_type": "execute_result",
          "data": {
            "text/plain": [
              "16"
            ]
          },
          "metadata": {},
          "execution_count": 24
        }
      ],
      "source": [
        "int(16.4)"
      ]
    },
    {
      "cell_type": "markdown",
      "metadata": {
        "id": "oPY7sMfflL-d"
      },
      "source": [
        "**BONUS** (only if you have time)\n",
        "\n",
        "1. Create a variable called `birthday` and set it equal to the string `'Happy Birthday to You!'`. Use slicing to access every other character in `birthday`."
      ]
    },
    {
      "cell_type": "code",
      "execution_count": null,
      "metadata": {
        "id": "jaQPOIN8mPm1",
        "colab": {
          "base_uri": "https://localhost:8080/",
          "height": 35
        },
        "outputId": "e33ecc4c-cc45-445b-bb81-0d77fb568930"
      },
      "outputs": [
        {
          "output_type": "execute_result",
          "data": {
            "text/plain": [
              "'Happy Birthday to You!'"
            ],
            "application/vnd.google.colaboratory.intrinsic+json": {
              "type": "string"
            }
          },
          "metadata": {},
          "execution_count": 86
        }
      ],
      "source": [
        "birthday='Happy Birthday to You!'\n",
        "birthday\n"
      ]
    },
    {
      "cell_type": "markdown",
      "metadata": {
        "id": "bhfMCVlOmP9r"
      },
      "source": [
        "2. Create a variable called `nested` and set it equal to the following nested list: `[[1,2,3], ['a','b','c']]`. Use indexing to access the `b` from your nested list. Use indexing to access `[2,3]` from your nested list."
      ]
    },
    {
      "cell_type": "code",
      "source": [
        "# Create the nested list\n",
        "nested = [[1, 2, 3], ['a', 'b', 'c']]\n",
        "\n",
        "# Access the 'b' from the nested list\n",
        "b_value = nested[1][1]\n",
        "\n",
        "# Access the [2, 3] from the nested list\n",
        "sublist_23 = nested[0][1:]\n",
        "\n",
        "# Print the results\n",
        "print(\"Value at nested[1][1]:\", b_value)\n",
        "print(\"Value at nested[0][1:]:\", sublist_23)\n",
        "#Code generated by ChatGPT"
      ],
      "metadata": {
        "id": "85tGCDihqojX",
        "colab": {
          "base_uri": "https://localhost:8080/"
        },
        "outputId": "cab20c84-087f-41ff-8993-08b79b4714ef"
      },
      "execution_count": null,
      "outputs": [
        {
          "output_type": "stream",
          "name": "stdout",
          "text": [
            "Value at nested[1][1]: b\n",
            "Value at nested[0][1:]: [2, 3]\n"
          ]
        }
      ]
    }
  ],
  "metadata": {
    "colab": {
      "provenance": [],
      "include_colab_link": true
    },
    "kernelspec": {
      "display_name": "Python 3",
      "name": "python3"
    },
    "language_info": {
      "name": "python"
    }
  },
  "nbformat": 4,
  "nbformat_minor": 0
}